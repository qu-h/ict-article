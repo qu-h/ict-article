{
 "cells": [
  {
   "cell_type": "markdown",
   "metadata": {},
   "source": [
    "# Support Vector Machines\n",
    "\n",
    "As a binary classifier, the perceptron cannot be used to effectively classify linearly inseparable feature representations. We encountered a similar problem to this in our discussion of multiple linear regression  we examined a dataset in which the response variable was not linearly related to the explanatory variables. To improve the accuracy of the model, we introduced a special case of multiple linear regression called polynomial regression. We created synthetic combinations of features, and were able to model a linear relationship between the response variable and the features in the higher-dimensional feature space.\n",
    "\n",
    "While this method of increasing the dimensions of the feature space may seem like a promising technique to use when approximating nonlinear functions with linear models, it suffers from two related problems. The first is a computational problem; computing the mapped features and working with larger vectors requires more computing power. The second problem pertains to generalization; increasing the dimensions of the feature representation introduces the curse of dimensionality. Learning from high-dimensional feature representations requires exponentially\n",
    "more training data to avoid overfitting.\n",
    "\n",
    "## Kernel Trick to Map Data to High Dimensional space\n",
    "\n",
    "We can assume Kernel as a similarity function which **implicitly** maps the data to an infinite dimension plane and then find the support vectors in that plane and map the vectors back to the original dimension.\n",
    "\n",
    "The following image shows how adding a third dimension can make the data linearly 'plane' separable.\n",
    "\n",
    "![example image](http://www.eric-kim.net/eric-kim-net/posts/1/imgs/data_2d_to_3d.png)\n",
    "\n",
    "The most commonly used kernel is [_**Radial Bias Function**_](https://en.wikipedia.org/wiki/Radial_basis_function)\n",
    "\n",
    "For complete study of SVM, refer to the blogs.\n",
    "\n",
    "### Classifying Handwritten digits"
   ]
  },
  {
   "cell_type": "code",
   "execution_count": 2,
   "metadata": {},
   "outputs": [],
   "source": [
    "import matplotlib.pyplot as plt\n",
    "from sklearn.datasets import fetch_mldata\n",
    "import matplotlib.cm as cm\n",
    "import pandas as pd\n",
    "\n",
    "df = pd.read_csv('mnist.csv', header=0)\n",
    "columns = list(df.columns)\n",
    "columns = columns[1:] + columns[0:1]\n",
    "df = df[columns]"
   ]
  },
  {
   "cell_type": "code",
   "execution_count": 3,
   "metadata": {},
   "outputs": [],
   "source": [
    "X = df[df.columns[:-1]]\n",
    "y = df[df.columns[-1]]"
   ]
  },
  {
   "cell_type": "code",
   "execution_count": 4,
   "metadata": {},
   "outputs": [
    {
     "data": {
      "text/plain": [
       "<matplotlib.image.AxesImage at 0x7f536e6278d0>"
      ]
     },
     "execution_count": 4,
     "metadata": {},
     "output_type": "execute_result"
    },
    {
     "data": {
      "image/png": "[encoded data removed]",
      "text/plain": [
       "<matplotlib.figure.Figure at 0x7f53760c69d0>"
      ]
     },
     "metadata": {},
     "output_type": "display_data"
    }
   ],
   "source": [
    "plt.imshow(X.iloc[0].values.reshape(28,-1))"
   ]
  },
  {
   "cell_type": "code",
   "execution_count": null,
   "metadata": {},
   "outputs": [],
   "source": [
    "from sklearn.pipeline import Pipeline\n",
    "from sklearn.svm import SVC\n",
    "from sklearn.preprocessing import scale\n",
    "from sklearn.model_selection import train_test_split\n",
    "# from sklearn.grid_search import GridSearchCV\n",
    "from sklearn.metrics import classification_report\n",
    "\n",
    "X = scale(X)\n",
    "X_train, X_test, y_train, y_test = train_test_split(X, y)\n",
    "\n",
    "clf = SVC(kernel='rbf', gamma=0.01, C=100)\n",
    "\n",
    "\n",
    "clf.fit(X_train, y_train)"
   ]
  },
  {
   "cell_type": "code",
   "execution_count": 8,
   "metadata": {},
   "outputs": [
    {
     "name": "stdout",
     "output_type": "stream",
     "text": [
      "             precision    recall  f1-score   support\n",
      "\n",
      "          0       0.99      0.88      0.93      1052\n",
      "          1       0.99      0.97      0.98      1189\n",
      "          2       0.41      0.99      0.58      1047\n",
      "          3       0.96      0.74      0.84      1056\n",
      "          4       0.97      0.80      0.88      1014\n",
      "          5       0.96      0.79      0.87       929\n",
      "          6       0.99      0.78      0.87      1064\n",
      "          7       0.97      0.76      0.85      1100\n",
      "          8       0.97      0.78      0.87       996\n",
      "          9       0.96      0.85      0.90      1053\n",
      "\n",
      "avg / total       0.92      0.84      0.86     10500\n",
      "\n"
     ]
    }
   ],
   "source": [
    "prediction = clf.predict(X_test)\n",
    "\n",
    "print classification_report(y_test, prediction)"
   ]
  }
 ],
 "metadata": {
  "kernelspec": {
   "display_name": "scikit",
   "language": "python",
   "name": "scikit"
  },
  "language_info": {
   "codemirror_mode": {
    "name": "ipython",
    "version": 2
   },
   "file_extension": ".py",
   "mimetype": "text/x-python",
   "name": "python",
   "nbconvert_exporter": "python",
   "pygments_lexer": "ipython2",
   "version": "2.7.12"
  }
 },
 "nbformat": 4,
 "nbformat_minor": 2
}
