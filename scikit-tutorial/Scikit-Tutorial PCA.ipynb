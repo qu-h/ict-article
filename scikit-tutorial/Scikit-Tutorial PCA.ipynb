{
 "cells": [
  {
   "cell_type": "markdown",
   "metadata": {},
   "source": [
    "# Dimensionality Reduction with PCA\n",
    "\n",
    "PCA stands for Pricipal Component Analysis.\n",
    "Dimensionality reduction is motivated by several problems. First, it can be used to mitigate problems caused by the curse of dimensionality. Second, dimensionality reduction can be used to compress data while\n",
    "minimizing the amount of information that is lost. Third, understanding the structure of data with hundreds of dimensions can be difficult; data with only two or three dimensions can be visualized easily.\n",
    "\n",
    "## Curse of Dimensionality\n",
    "\n",
    "The higher the number of dimensions (features) the more the sparse the data becomes or in other words, the higher the number of features more will be the data requirement! **DATA IS PRECIOUS**\n",
    "\n",
    "![Curse of Dimensionality](http://cleverowl.uk/wp-content/uploads/2016/02/pca_1d_2d_3d.png)\n",
    "\n",
    "PCA helps us to project high dimensional data on a few dimension thus helping us to determine:\n",
    "a) The most important dimension/ the most important component of variation\n",
    "b) Helps reducing the data dimension, it does not help as a measure of underfitting.\n",
    "\n",
    "\n",
    "### How PCA works?\n",
    "\n",
    "PCA reduces the dimensions of a data set by projecting the data onto a\n",
    "lower-dimensional subspace. For example, a two dimensional data set could be reduced by projecting the points onto a line; each instance in the data set would then be represented by a single value rather than a pair of values. A three-dimensional dataset could be reduced to two dimensions by projecting the variables onto a plane.\n",
    "In general, an n-dimensional dataset can be reduced by projecting the dataset onto a k-dimensional subspace, where k is less than n. More formally, PCA can be used to find a set of vectors that span a subspace, which minimizes the sum of the squared errors of the projected data. This projection will retain the greatest proportion of the original data set's variance.\n",
    "\n",
    "### Pre-reqs of understanding PCA\n",
    " - Variance and Co-variance\n",
    " - Eigenvectors and eigenvalues\n",
    " \n",
    " \n",
    "#### NOTE: \n",
    "Eigenvectors and eigenvalues can only be derived from square matrices, and not all square matrices have eigenvectors or eigenvalues. If a matrix does have eigenvectors and eigenvalues, it will have a pair for each of its dimensions. The principal components of a matrix are the eigenvectors of its covariance matrix, ordered by their corresponding eigenvalues. The eigenvector with the greatest eigenvalue is the first principal component; the second principal component is the eigenvector with the second greatest eigenvalue, and so on.\n",
    " "
   ]
  },
  {
   "cell_type": "code",
   "execution_count": 41,
   "metadata": {},
   "outputs": [
    {
     "name": "stdout",
     "output_type": "stream",
     "text": [
      "(10,)\n",
      "(10, 2)\n"
     ]
    }
   ],
   "source": [
    "import numpy as np\n",
    "\n",
    "a = np.array([[0.9, 1],\n",
    "             [2.4, 2.6],\n",
    "             [1.2, 1.7],\n",
    "             [0.5, -0.7],\n",
    "             [0.3, -0.7],\n",
    "             [1.8, 1.4],\n",
    "             [0.5, 0.6],\n",
    "             [0.3, 0.6],\n",
    "             [2.5, 2.6],\n",
    "             [1.3, 1.1]])\n",
    "\n",
    "cov_a = np.cov(a.T)\n",
    "#WE TRANSPOSE BECAUSE ALGORITHM IS DESIGNED TO DETERMINE COVARIANCE ALONG\n",
    "#ROW, SO THE NUMBER OF ROWS ARE CONSIDERED AS NUMBER OF VARIABLES AND\n",
    "#NOT CONSIDERED AS NUMBER OF DATA-POINTS\n",
    "eigenval, vec = np.linalg.eig(cov_a)\n",
    "reduced_mat = a.dot(vec[:,0])\n",
    "\n",
    "print reduced_mat.shape\n",
    "print a.shape\n",
    "\n",
    "#one dimension less"
   ]
  },
  {
   "cell_type": "markdown",
   "metadata": {},
   "source": [
    "Many implementations of PCA, including the one of scikit-learn, use singular value decomposition to calculate the eigenvectors and eigenvalues. SVD is given by the following equation:\n",
    "![equation](https://carlmorphet.files.wordpress.com/2014/02/svd-equation.png?w=594)\n",
    "\n",
    "The columns of S are called left singular vectors of the data matrix, the columns of U are its right singular vectors, and the diagonal entries of are its singular values.\n",
    "While the singular vectors and values of a matrix are useful in some applications of signal processing and statistics, we are only interested in them as they relate to the eigenvectors and eigenvalues of the data matrix. Specifically, the left singular vectors are the eigenvectors of the covariance matrix and the diagonal elements of ∑ are the square roots of the eigenvalues of the covariance matrix.\n",
    "\n",
    "## Using PCA to visualize high-dimensional data"
   ]
  },
  {
   "cell_type": "code",
   "execution_count": 52,
   "metadata": {},
   "outputs": [
    {
     "data": {
      "image/png": "[encoded data removed]",
      "text/plain": [
       "<matplotlib.figure.Figure at 0x7f0b75d9c9d0>"
      ]
     },
     "metadata": {},
     "output_type": "display_data"
    }
   ],
   "source": [
    "import matplotlib.pyplot as plt\n",
    "from sklearn.decomposition import PCA\n",
    "from sklearn.datasets import load_iris\n",
    "\n",
    "data = load_iris()\n",
    "y = data.target\n",
    "X = data.data\n",
    "\n",
    "pca = PCA(n_components = 2)\n",
    "reduced_X = pca.fit_transform(X)\n",
    "\n",
    "\n",
    "red_x, red_y = [], []\n",
    "blue_x, blue_y = [], []\n",
    "green_x, green_y = [], []\n",
    "\n",
    "for i in range(len(reduced_X)):\n",
    "    if y[i]== 0:\n",
    "        red_x.append(reduced_X[i][0])\n",
    "        red_y.append(reduced_X[i][1])\n",
    "    elif y[i]==1:\n",
    "        blue_x.append(reduced_X[i][0])\n",
    "        blue_y.append(reduced_X[i][1])\n",
    "    else:\n",
    "        green_x.append(reduced_X[i][0])\n",
    "        green_y.append(reduced_X[i][1])\n",
    "\n",
    "plt.scatter(red_x, red_y, color='r', marker='o')\n",
    "plt.scatter(blue_x, blue_y, color='b', marker='x')\n",
    "plt.scatter(green_x, green_y, color='g', marker ='.')\n",
    "\n",
    "plt.show()"
   ]
  },
  {
   "cell_type": "markdown",
   "metadata": {},
   "source": [
    "## Face Recognition with PCA\n",
    "\n",
    "Face recognition is the supervised classification task of identifying a person from an image of his or her face. In this example, we will use a data set called Our Database of Faces from AT&T Laboratories, Cambridge. The data set contains ten images each of forty people.\n",
    "The images were created under different lighting conditions, and the subjects varied their facial expressions. The images are gray scale and 92 x 112 pixels in dimension.\n",
    "\n",
    "While these images are small, a feature vector that encodes the intensity of every pixel will have 10,304 dimensions. Training from such high-dimensional data could require many samples to avoid over-fitting. Instead, we will use PCA to compactly represent the images in terms of a small number of principal components.\n",
    "\n",
    "We can reshape the matrix of pixel intensities for an image into a vector, and create a matrix of these vectors for all of the training images. Each image is a linear combination of this data set's principal components. In the context of face recognition, these principal components are called eigenfaces. The eigenfaces can be thought of as standardized components of faces. Each face in the data set can be expressed as some combination of the eigenfaces, and can be approximated as a combination of the most important eigenfaces."
   ]
  },
  {
   "cell_type": "code",
   "execution_count": 69,
   "metadata": {},
   "outputs": [
    {
     "name": "stdout",
     "output_type": "stream",
     "text": [
      "(100, 150) (300, 150)\n"
     ]
    },
    {
     "data": {
      "image/png": "[encoded data removed]",
      "text/plain": [
       "<matplotlib.figure.Figure at 0x7f0b75c49dd0>"
      ]
     },
     "metadata": {},
     "output_type": "display_data"
    }
   ],
   "source": [
    "from os import walk, path\n",
    "import numpy as np\n",
    "import mahotas as mh\n",
    "from sklearn.model_selection import train_test_split\n",
    "from sklearn.model_selection import cross_val_score\n",
    "from sklearn.preprocessing import scale\n",
    "from sklearn.decomposition import PCA\n",
    "from sklearn.linear_model import LogisticRegression\n",
    "from sklearn.metrics import classification_report\n",
    "\n",
    "X = []\n",
    "y = []\n",
    "\n",
    "\n",
    "for dir_path, dir_names, file_names in walk('orl_faces'):\n",
    "    for fn in file_names:\n",
    "        if fn[-3:] == 'pgm':\n",
    "            image_filename = path.join(dir_path, fn)\n",
    "            X.append(scale(mh.imread(image_filename, \n",
    "                                     as_grey = True).reshape(-1,).astype(np.float32)))\n",
    "            y.append(dir_path)\n",
    "X = np.array(X)\n",
    "\n",
    "plt.imshow(X[0].reshape(112,-1), cmap='gray')\n",
    "\n",
    "X_train, X_test, y_train, y_test = train_test_split(X, y)\n",
    "pca = PCA(n_components=150)\n",
    "\n",
    "X_train_reduced = pca.fit_transform(X_train)\n",
    "X_test_reduced = pca.transform(X_test)\n",
    "\n",
    "\n",
    "print X_test_reduced.shape, X_train_reduced.shape"
   ]
  },
  {
   "cell_type": "code",
   "execution_count": 70,
   "metadata": {},
   "outputs": [
    {
     "name": "stdout",
     "output_type": "stream",
     "text": [
      "Cross validation Accuracy:  0.789991840065\n"
     ]
    }
   ],
   "source": [
    "classifier = LogisticRegression()\n",
    "\n",
    "accuracies = cross_val_score(classifier, X_train_reduced, y_train)\n",
    "\n",
    "print 'Cross validation Accuracy: ', np.mean(accuracies)"
   ]
  },
  {
   "cell_type": "code",
   "execution_count": 71,
   "metadata": {},
   "outputs": [
    {
     "name": "stdout",
     "output_type": "stream",
     "text": [
      "               precision    recall  f1-score   support\n",
      "\n",
      " orl_faces/s1       1.00      0.67      0.80         3\n",
      "orl_faces/s10       1.00      1.00      1.00         1\n",
      "orl_faces/s11       1.00      1.00      1.00         3\n",
      "orl_faces/s12       0.67      1.00      0.80         2\n",
      "orl_faces/s13       1.00      1.00      1.00         2\n",
      "orl_faces/s14       1.00      1.00      1.00         2\n",
      "orl_faces/s15       1.00      1.00      1.00         3\n",
      "orl_faces/s16       0.00      0.00      0.00         1\n",
      "orl_faces/s17       1.00      1.00      1.00         3\n",
      "orl_faces/s18       1.00      1.00      1.00         2\n",
      "orl_faces/s19       1.00      1.00      1.00         1\n",
      " orl_faces/s2       1.00      1.00      1.00         4\n",
      "orl_faces/s20       1.00      1.00      1.00         3\n",
      "orl_faces/s21       1.00      1.00      1.00         3\n",
      "orl_faces/s22       1.00      1.00      1.00         1\n",
      "orl_faces/s23       0.33      1.00      0.50         1\n",
      "orl_faces/s25       1.00      1.00      1.00         2\n",
      "orl_faces/s26       1.00      0.67      0.80         3\n",
      "orl_faces/s27       0.67      1.00      0.80         2\n",
      "orl_faces/s28       0.50      0.50      0.50         2\n",
      "orl_faces/s29       1.00      0.75      0.86         4\n",
      " orl_faces/s3       1.00      1.00      1.00         3\n",
      "orl_faces/s30       1.00      0.80      0.89         5\n",
      "orl_faces/s31       0.33      1.00      0.50         1\n",
      "orl_faces/s32       1.00      0.67      0.80         3\n",
      "orl_faces/s34       0.33      1.00      0.50         2\n",
      "orl_faces/s35       1.00      0.60      0.75         5\n",
      "orl_faces/s36       0.00      0.00      0.00         3\n",
      "orl_faces/s37       1.00      1.00      1.00         3\n",
      "orl_faces/s38       1.00      1.00      1.00         4\n",
      "orl_faces/s39       1.00      1.00      1.00         4\n",
      " orl_faces/s4       1.00      1.00      1.00         3\n",
      "orl_faces/s40       1.00      0.75      0.86         4\n",
      " orl_faces/s5       1.00      1.00      1.00         2\n",
      " orl_faces/s6       0.67      1.00      0.80         2\n",
      " orl_faces/s7       1.00      1.00      1.00         4\n",
      " orl_faces/s8       1.00      1.00      1.00         2\n",
      " orl_faces/s9       1.00      1.00      1.00         2\n",
      "\n",
      "  avg / total       0.90      0.87      0.87       100\n",
      "\n"
     ]
    },
    {
     "name": "stderr",
     "output_type": "stream",
     "text": [
      "/home/prakhar/Desktop/scikit/venv/local/lib/python2.7/site-packages/sklearn/metrics/classification.py:1135: UndefinedMetricWarning: Precision and F-score are ill-defined and being set to 0.0 in labels with no predicted samples.\n",
      "  'precision', 'predicted', average, warn_for)\n"
     ]
    }
   ],
   "source": [
    "classifier.fit(X_train_reduced, y_train)\n",
    "prediction = classifier.predict(X_test_reduced)\n",
    "print classification_report(y_test, prediction)\n"
   ]
  }
 ],
 "metadata": {
  "kernelspec": {
   "display_name": "scikit",
   "language": "python",
   "name": "scikit"
  },
  "language_info": {
   "codemirror_mode": {
    "name": "ipython",
    "version": 2
   },
   "file_extension": ".py",
   "mimetype": "text/x-python",
   "name": "python",
   "nbconvert_exporter": "python",
   "pygments_lexer": "ipython2",
   "version": "2.7.12"
  }
 },
 "nbformat": 4,
 "nbformat_minor": 2
}
